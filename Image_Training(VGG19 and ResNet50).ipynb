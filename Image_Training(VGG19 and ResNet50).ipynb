{
  "cells": [
    {
      "cell_type": "code",
      "execution_count": null,
      "metadata": {
        "id": "4yYwfk64u-qx"
      },
      "outputs": [],
      "source": [
        "import glob as glob\n",
        "import os"
      ]
    },
    {
      "cell_type": "code",
      "execution_count": null,
      "metadata": {
        "id": "pjJMcrpbvY2L"
      },
      "outputs": [],
      "source": [
        "import glob\n",
        "data='/content/drive/MyDrive/images/Train'\n",
        "image=glob.glob(data+'/*')"
      ]
    },
    {
      "cell_type": "code",
      "execution_count": null,
      "metadata": {
        "colab": {
          "base_uri": "https://localhost:8080/"
        },
        "id": "ExR1nfyPw1Xs",
        "outputId": "6155f9a2-5d81-4a59-c78b-f6dfef081b87"
      },
      "outputs": [
        {
          "data": {
            "text/plain": [
              "['/content/drive/MyDrive/images/Train/Athulmk',\n",
              " '/content/drive/MyDrive/images/Train/Akshay',\n",
              " '/content/drive/MyDrive/images/Train/Sreeshnu']"
            ]
          },
          "execution_count": 25,
          "metadata": {},
          "output_type": "execute_result"
        }
      ],
      "source": [
        "image"
      ]
    },
    {
      "cell_type": "code",
      "execution_count": null,
      "metadata": {
        "id": "w4yfLaQSw5EJ"
      },
      "outputs": [],
      "source": [
        "athul=list(glob.glob(data+'/Athulmk/*'))\n",
        "akshay=list(glob.glob(data+'/Akshay/*'))\n",
        "sreeshnu=list(glob.glob(data+'/Sreeshnu/*'))\n"
      ]
    },
    {
      "cell_type": "code",
      "execution_count": null,
      "metadata": {
        "colab": {
          "base_uri": "https://localhost:8080/"
        },
        "id": "Y1Hkt7ASxncQ",
        "outputId": "6e3379ad-bb3d-4c4a-b0a4-fab5ade34745"
      },
      "outputs": [
        {
          "data": {
            "text/plain": [
              "['/content/drive/MyDrive/images/Train/Athulmk/26.jpg',\n",
              " '/content/drive/MyDrive/images/Train/Athulmk/28.jpg',\n",
              " '/content/drive/MyDrive/images/Train/Athulmk/33.jpg',\n",
              " '/content/drive/MyDrive/images/Train/Athulmk/22.jpg',\n",
              " '/content/drive/MyDrive/images/Train/Athulmk/24.jpg',\n",
              " '/content/drive/MyDrive/images/Train/Athulmk/20.jpg',\n",
              " '/content/drive/MyDrive/images/Train/Athulmk/32.jpg',\n",
              " '/content/drive/MyDrive/images/Train/Athulmk/29.jpg',\n",
              " '/content/drive/MyDrive/images/Train/Athulmk/34.jpg',\n",
              " '/content/drive/MyDrive/images/Train/Athulmk/21.jpg',\n",
              " '/content/drive/MyDrive/images/Train/Athulmk/30.jpg',\n",
              " '/content/drive/MyDrive/images/Train/Athulmk/27.jpg',\n",
              " '/content/drive/MyDrive/images/Train/Athulmk/31.jpg',\n",
              " '/content/drive/MyDrive/images/Train/Athulmk/25.jpg',\n",
              " '/content/drive/MyDrive/images/Train/Athulmk/23.jpg',\n",
              " '/content/drive/MyDrive/images/Train/Athulmk/59.jpg',\n",
              " '/content/drive/MyDrive/images/Train/Athulmk/53.jpg',\n",
              " '/content/drive/MyDrive/images/Train/Athulmk/62.jpg',\n",
              " '/content/drive/MyDrive/images/Train/Athulmk/61.jpg',\n",
              " '/content/drive/MyDrive/images/Train/Athulmk/44.jpg',\n",
              " '/content/drive/MyDrive/images/Train/Athulmk/63.jpg',\n",
              " '/content/drive/MyDrive/images/Train/Athulmk/60.jpg',\n",
              " '/content/drive/MyDrive/images/Train/Athulmk/43.jpg',\n",
              " '/content/drive/MyDrive/images/Train/Athulmk/51.jpg',\n",
              " '/content/drive/MyDrive/images/Train/Athulmk/35.jpg',\n",
              " '/content/drive/MyDrive/images/Train/Athulmk/54.jpg',\n",
              " '/content/drive/MyDrive/images/Train/Athulmk/39.jpg',\n",
              " '/content/drive/MyDrive/images/Train/Athulmk/65.jpg',\n",
              " '/content/drive/MyDrive/images/Train/Athulmk/42.jpg',\n",
              " '/content/drive/MyDrive/images/Train/Athulmk/48.jpg',\n",
              " '/content/drive/MyDrive/images/Train/Athulmk/49.jpg',\n",
              " '/content/drive/MyDrive/images/Train/Athulmk/55.jpg',\n",
              " '/content/drive/MyDrive/images/Train/Athulmk/45.jpg',\n",
              " '/content/drive/MyDrive/images/Train/Athulmk/37.jpg',\n",
              " '/content/drive/MyDrive/images/Train/Athulmk/41.jpg',\n",
              " '/content/drive/MyDrive/images/Train/Athulmk/50.jpg',\n",
              " '/content/drive/MyDrive/images/Train/Athulmk/57.jpg',\n",
              " '/content/drive/MyDrive/images/Train/Athulmk/40.jpg',\n",
              " '/content/drive/MyDrive/images/Train/Athulmk/52.jpg',\n",
              " '/content/drive/MyDrive/images/Train/Athulmk/46.jpg',\n",
              " '/content/drive/MyDrive/images/Train/Athulmk/36.jpg',\n",
              " '/content/drive/MyDrive/images/Train/Athulmk/56.jpg',\n",
              " '/content/drive/MyDrive/images/Train/Athulmk/47.jpg',\n",
              " '/content/drive/MyDrive/images/Train/Athulmk/58.jpg',\n",
              " '/content/drive/MyDrive/images/Train/Athulmk/64.jpg',\n",
              " '/content/drive/MyDrive/images/Train/Athulmk/38.jpg',\n",
              " '/content/drive/MyDrive/images/Train/Athulmk/76.jpg',\n",
              " '/content/drive/MyDrive/images/Train/Athulmk/85.jpg',\n",
              " '/content/drive/MyDrive/images/Train/Athulmk/80.jpg',\n",
              " '/content/drive/MyDrive/images/Train/Athulmk/70.jpg',\n",
              " '/content/drive/MyDrive/images/Train/Athulmk/90.jpg',\n",
              " '/content/drive/MyDrive/images/Train/Athulmk/75.jpg',\n",
              " '/content/drive/MyDrive/images/Train/Athulmk/73.jpg',\n",
              " '/content/drive/MyDrive/images/Train/Athulmk/77.jpg',\n",
              " '/content/drive/MyDrive/images/Train/Athulmk/88.jpg',\n",
              " '/content/drive/MyDrive/images/Train/Athulmk/89.jpg',\n",
              " '/content/drive/MyDrive/images/Train/Athulmk/91.jpg',\n",
              " '/content/drive/MyDrive/images/Train/Athulmk/74.jpg',\n",
              " '/content/drive/MyDrive/images/Train/Athulmk/86.jpg',\n",
              " '/content/drive/MyDrive/images/Train/Athulmk/66.jpg',\n",
              " '/content/drive/MyDrive/images/Train/Athulmk/93.jpg',\n",
              " '/content/drive/MyDrive/images/Train/Athulmk/83.jpg',\n",
              " '/content/drive/MyDrive/images/Train/Athulmk/82.jpg',\n",
              " '/content/drive/MyDrive/images/Train/Athulmk/84.jpg',\n",
              " '/content/drive/MyDrive/images/Train/Athulmk/67.jpg',\n",
              " '/content/drive/MyDrive/images/Train/Athulmk/78.jpg',\n",
              " '/content/drive/MyDrive/images/Train/Athulmk/79.jpg',\n",
              " '/content/drive/MyDrive/images/Train/Athulmk/92.jpg',\n",
              " '/content/drive/MyDrive/images/Train/Athulmk/81.jpg',\n",
              " '/content/drive/MyDrive/images/Train/Athulmk/71.jpg',\n",
              " '/content/drive/MyDrive/images/Train/Athulmk/68.jpg',\n",
              " '/content/drive/MyDrive/images/Train/Athulmk/94.jpg',\n",
              " '/content/drive/MyDrive/images/Train/Athulmk/69.jpg',\n",
              " '/content/drive/MyDrive/images/Train/Athulmk/72.jpg',\n",
              " '/content/drive/MyDrive/images/Train/Athulmk/87.jpg',\n",
              " '/content/drive/MyDrive/images/Train/Athulmk/117.jpg',\n",
              " '/content/drive/MyDrive/images/Train/Athulmk/112.jpg',\n",
              " '/content/drive/MyDrive/images/Train/Athulmk/110.jpg',\n",
              " '/content/drive/MyDrive/images/Train/Athulmk/98.jpg',\n",
              " '/content/drive/MyDrive/images/Train/Athulmk/123.jpg',\n",
              " '/content/drive/MyDrive/images/Train/Athulmk/103.jpg',\n",
              " '/content/drive/MyDrive/images/Train/Athulmk/97.jpg',\n",
              " '/content/drive/MyDrive/images/Train/Athulmk/108.jpg',\n",
              " '/content/drive/MyDrive/images/Train/Athulmk/122.jpg',\n",
              " '/content/drive/MyDrive/images/Train/Athulmk/105.jpg',\n",
              " '/content/drive/MyDrive/images/Train/Athulmk/124.jpg',\n",
              " '/content/drive/MyDrive/images/Train/Athulmk/101.jpg',\n",
              " '/content/drive/MyDrive/images/Train/Athulmk/99.jpg',\n",
              " '/content/drive/MyDrive/images/Train/Athulmk/113.jpg',\n",
              " '/content/drive/MyDrive/images/Train/Athulmk/115.jpg',\n",
              " '/content/drive/MyDrive/images/Train/Athulmk/109.jpg',\n",
              " '/content/drive/MyDrive/images/Train/Athulmk/102.jpg',\n",
              " '/content/drive/MyDrive/images/Train/Athulmk/106.jpg',\n",
              " '/content/drive/MyDrive/images/Train/Athulmk/111.jpg',\n",
              " '/content/drive/MyDrive/images/Train/Athulmk/114.jpg',\n",
              " '/content/drive/MyDrive/images/Train/Athulmk/100.jpg',\n",
              " '/content/drive/MyDrive/images/Train/Athulmk/104.jpg',\n",
              " '/content/drive/MyDrive/images/Train/Athulmk/116.jpg',\n",
              " '/content/drive/MyDrive/images/Train/Athulmk/120.jpg',\n",
              " '/content/drive/MyDrive/images/Train/Athulmk/95.jpg',\n",
              " '/content/drive/MyDrive/images/Train/Athulmk/96.jpg',\n",
              " '/content/drive/MyDrive/images/Train/Athulmk/118.jpg',\n",
              " '/content/drive/MyDrive/images/Train/Athulmk/121.jpg',\n",
              " '/content/drive/MyDrive/images/Train/Athulmk/119.jpg',\n",
              " '/content/drive/MyDrive/images/Train/Athulmk/107.jpg',\n",
              " '/content/drive/MyDrive/images/Train/Athulmk/133.jpg',\n",
              " '/content/drive/MyDrive/images/Train/Athulmk/146.jpg',\n",
              " '/content/drive/MyDrive/images/Train/Athulmk/137.jpg',\n",
              " '/content/drive/MyDrive/images/Train/Athulmk/128.jpg',\n",
              " '/content/drive/MyDrive/images/Train/Athulmk/130.jpg',\n",
              " '/content/drive/MyDrive/images/Train/Athulmk/145.jpg',\n",
              " '/content/drive/MyDrive/images/Train/Athulmk/132.jpg',\n",
              " '/content/drive/MyDrive/images/Train/Athulmk/138.jpg',\n",
              " '/content/drive/MyDrive/images/Train/Athulmk/126.jpg',\n",
              " '/content/drive/MyDrive/images/Train/Athulmk/143.jpg',\n",
              " '/content/drive/MyDrive/images/Train/Athulmk/141.jpg',\n",
              " '/content/drive/MyDrive/images/Train/Athulmk/135.jpg',\n",
              " '/content/drive/MyDrive/images/Train/Athulmk/131.jpg',\n",
              " '/content/drive/MyDrive/images/Train/Athulmk/129.jpg',\n",
              " '/content/drive/MyDrive/images/Train/Athulmk/140.jpg',\n",
              " '/content/drive/MyDrive/images/Train/Athulmk/139.jpg',\n",
              " '/content/drive/MyDrive/images/Train/Athulmk/136.jpg',\n",
              " '/content/drive/MyDrive/images/Train/Athulmk/148.jpg',\n",
              " '/content/drive/MyDrive/images/Train/Athulmk/147.jpg',\n",
              " '/content/drive/MyDrive/images/Train/Athulmk/144.jpg',\n",
              " '/content/drive/MyDrive/images/Train/Athulmk/134.jpg',\n",
              " '/content/drive/MyDrive/images/Train/Athulmk/127.jpg',\n",
              " '/content/drive/MyDrive/images/Train/Athulmk/149.jpg',\n",
              " '/content/drive/MyDrive/images/Train/Athulmk/150.jpg',\n",
              " '/content/drive/MyDrive/images/Train/Athulmk/142.jpg',\n",
              " '/content/drive/MyDrive/images/Train/Athulmk/125.jpg']"
            ]
          },
          "execution_count": 27,
          "metadata": {},
          "output_type": "execute_result"
        }
      ],
      "source": [
        "athul"
      ]
    },
    {
      "cell_type": "code",
      "execution_count": null,
      "metadata": {
        "colab": {
          "base_uri": "https://localhost:8080/"
        },
        "id": "jAo4PfVpxpHp",
        "outputId": "63d7055a-6004-4cf5-f05c-f4b7e7a031f9"
      },
      "outputs": [
        {
          "data": {
            "text/plain": [
              "(131, 131, 131)"
            ]
          },
          "execution_count": 28,
          "metadata": {},
          "output_type": "execute_result"
        }
      ],
      "source": [
        "len(athul),len(akshay),len(sreeshnu)"
      ]
    },
    {
      "cell_type": "code",
      "execution_count": null,
      "metadata": {
        "colab": {
          "base_uri": "https://localhost:8080/"
        },
        "id": "NNYf_1a9x_vx",
        "outputId": "8553137a-b9f6-4b24-ddfa-14c33c7c7be4"
      },
      "outputs": [
        {
          "data": {
            "text/plain": [
              "{'Athulmk': ['/content/drive/MyDrive/images/Train/Athulmk/26.jpg',\n",
              "  '/content/drive/MyDrive/images/Train/Athulmk/28.jpg',\n",
              "  '/content/drive/MyDrive/images/Train/Athulmk/33.jpg',\n",
              "  '/content/drive/MyDrive/images/Train/Athulmk/22.jpg',\n",
              "  '/content/drive/MyDrive/images/Train/Athulmk/24.jpg',\n",
              "  '/content/drive/MyDrive/images/Train/Athulmk/20.jpg',\n",
              "  '/content/drive/MyDrive/images/Train/Athulmk/32.jpg',\n",
              "  '/content/drive/MyDrive/images/Train/Athulmk/29.jpg',\n",
              "  '/content/drive/MyDrive/images/Train/Athulmk/34.jpg',\n",
              "  '/content/drive/MyDrive/images/Train/Athulmk/21.jpg',\n",
              "  '/content/drive/MyDrive/images/Train/Athulmk/30.jpg',\n",
              "  '/content/drive/MyDrive/images/Train/Athulmk/27.jpg',\n",
              "  '/content/drive/MyDrive/images/Train/Athulmk/31.jpg',\n",
              "  '/content/drive/MyDrive/images/Train/Athulmk/25.jpg',\n",
              "  '/content/drive/MyDrive/images/Train/Athulmk/23.jpg',\n",
              "  '/content/drive/MyDrive/images/Train/Athulmk/59.jpg',\n",
              "  '/content/drive/MyDrive/images/Train/Athulmk/53.jpg',\n",
              "  '/content/drive/MyDrive/images/Train/Athulmk/62.jpg',\n",
              "  '/content/drive/MyDrive/images/Train/Athulmk/61.jpg',\n",
              "  '/content/drive/MyDrive/images/Train/Athulmk/44.jpg',\n",
              "  '/content/drive/MyDrive/images/Train/Athulmk/63.jpg',\n",
              "  '/content/drive/MyDrive/images/Train/Athulmk/60.jpg',\n",
              "  '/content/drive/MyDrive/images/Train/Athulmk/43.jpg',\n",
              "  '/content/drive/MyDrive/images/Train/Athulmk/51.jpg',\n",
              "  '/content/drive/MyDrive/images/Train/Athulmk/35.jpg',\n",
              "  '/content/drive/MyDrive/images/Train/Athulmk/54.jpg',\n",
              "  '/content/drive/MyDrive/images/Train/Athulmk/39.jpg',\n",
              "  '/content/drive/MyDrive/images/Train/Athulmk/65.jpg',\n",
              "  '/content/drive/MyDrive/images/Train/Athulmk/42.jpg',\n",
              "  '/content/drive/MyDrive/images/Train/Athulmk/48.jpg',\n",
              "  '/content/drive/MyDrive/images/Train/Athulmk/49.jpg',\n",
              "  '/content/drive/MyDrive/images/Train/Athulmk/55.jpg',\n",
              "  '/content/drive/MyDrive/images/Train/Athulmk/45.jpg',\n",
              "  '/content/drive/MyDrive/images/Train/Athulmk/37.jpg',\n",
              "  '/content/drive/MyDrive/images/Train/Athulmk/41.jpg',\n",
              "  '/content/drive/MyDrive/images/Train/Athulmk/50.jpg',\n",
              "  '/content/drive/MyDrive/images/Train/Athulmk/57.jpg',\n",
              "  '/content/drive/MyDrive/images/Train/Athulmk/40.jpg',\n",
              "  '/content/drive/MyDrive/images/Train/Athulmk/52.jpg',\n",
              "  '/content/drive/MyDrive/images/Train/Athulmk/46.jpg',\n",
              "  '/content/drive/MyDrive/images/Train/Athulmk/36.jpg',\n",
              "  '/content/drive/MyDrive/images/Train/Athulmk/56.jpg',\n",
              "  '/content/drive/MyDrive/images/Train/Athulmk/47.jpg',\n",
              "  '/content/drive/MyDrive/images/Train/Athulmk/58.jpg',\n",
              "  '/content/drive/MyDrive/images/Train/Athulmk/64.jpg',\n",
              "  '/content/drive/MyDrive/images/Train/Athulmk/38.jpg',\n",
              "  '/content/drive/MyDrive/images/Train/Athulmk/76.jpg',\n",
              "  '/content/drive/MyDrive/images/Train/Athulmk/85.jpg',\n",
              "  '/content/drive/MyDrive/images/Train/Athulmk/80.jpg',\n",
              "  '/content/drive/MyDrive/images/Train/Athulmk/70.jpg',\n",
              "  '/content/drive/MyDrive/images/Train/Athulmk/90.jpg',\n",
              "  '/content/drive/MyDrive/images/Train/Athulmk/75.jpg',\n",
              "  '/content/drive/MyDrive/images/Train/Athulmk/73.jpg',\n",
              "  '/content/drive/MyDrive/images/Train/Athulmk/77.jpg',\n",
              "  '/content/drive/MyDrive/images/Train/Athulmk/88.jpg',\n",
              "  '/content/drive/MyDrive/images/Train/Athulmk/89.jpg',\n",
              "  '/content/drive/MyDrive/images/Train/Athulmk/91.jpg',\n",
              "  '/content/drive/MyDrive/images/Train/Athulmk/74.jpg',\n",
              "  '/content/drive/MyDrive/images/Train/Athulmk/86.jpg',\n",
              "  '/content/drive/MyDrive/images/Train/Athulmk/66.jpg',\n",
              "  '/content/drive/MyDrive/images/Train/Athulmk/93.jpg',\n",
              "  '/content/drive/MyDrive/images/Train/Athulmk/83.jpg',\n",
              "  '/content/drive/MyDrive/images/Train/Athulmk/82.jpg',\n",
              "  '/content/drive/MyDrive/images/Train/Athulmk/84.jpg',\n",
              "  '/content/drive/MyDrive/images/Train/Athulmk/67.jpg',\n",
              "  '/content/drive/MyDrive/images/Train/Athulmk/78.jpg',\n",
              "  '/content/drive/MyDrive/images/Train/Athulmk/79.jpg',\n",
              "  '/content/drive/MyDrive/images/Train/Athulmk/92.jpg',\n",
              "  '/content/drive/MyDrive/images/Train/Athulmk/81.jpg',\n",
              "  '/content/drive/MyDrive/images/Train/Athulmk/71.jpg',\n",
              "  '/content/drive/MyDrive/images/Train/Athulmk/68.jpg',\n",
              "  '/content/drive/MyDrive/images/Train/Athulmk/94.jpg',\n",
              "  '/content/drive/MyDrive/images/Train/Athulmk/69.jpg',\n",
              "  '/content/drive/MyDrive/images/Train/Athulmk/72.jpg',\n",
              "  '/content/drive/MyDrive/images/Train/Athulmk/87.jpg',\n",
              "  '/content/drive/MyDrive/images/Train/Athulmk/117.jpg',\n",
              "  '/content/drive/MyDrive/images/Train/Athulmk/112.jpg',\n",
              "  '/content/drive/MyDrive/images/Train/Athulmk/110.jpg',\n",
              "  '/content/drive/MyDrive/images/Train/Athulmk/98.jpg',\n",
              "  '/content/drive/MyDrive/images/Train/Athulmk/123.jpg',\n",
              "  '/content/drive/MyDrive/images/Train/Athulmk/103.jpg',\n",
              "  '/content/drive/MyDrive/images/Train/Athulmk/97.jpg',\n",
              "  '/content/drive/MyDrive/images/Train/Athulmk/108.jpg',\n",
              "  '/content/drive/MyDrive/images/Train/Athulmk/122.jpg',\n",
              "  '/content/drive/MyDrive/images/Train/Athulmk/105.jpg',\n",
              "  '/content/drive/MyDrive/images/Train/Athulmk/124.jpg',\n",
              "  '/content/drive/MyDrive/images/Train/Athulmk/101.jpg',\n",
              "  '/content/drive/MyDrive/images/Train/Athulmk/99.jpg',\n",
              "  '/content/drive/MyDrive/images/Train/Athulmk/113.jpg',\n",
              "  '/content/drive/MyDrive/images/Train/Athulmk/115.jpg',\n",
              "  '/content/drive/MyDrive/images/Train/Athulmk/109.jpg',\n",
              "  '/content/drive/MyDrive/images/Train/Athulmk/102.jpg',\n",
              "  '/content/drive/MyDrive/images/Train/Athulmk/106.jpg',\n",
              "  '/content/drive/MyDrive/images/Train/Athulmk/111.jpg',\n",
              "  '/content/drive/MyDrive/images/Train/Athulmk/114.jpg',\n",
              "  '/content/drive/MyDrive/images/Train/Athulmk/100.jpg',\n",
              "  '/content/drive/MyDrive/images/Train/Athulmk/104.jpg',\n",
              "  '/content/drive/MyDrive/images/Train/Athulmk/116.jpg',\n",
              "  '/content/drive/MyDrive/images/Train/Athulmk/120.jpg',\n",
              "  '/content/drive/MyDrive/images/Train/Athulmk/95.jpg',\n",
              "  '/content/drive/MyDrive/images/Train/Athulmk/96.jpg',\n",
              "  '/content/drive/MyDrive/images/Train/Athulmk/118.jpg',\n",
              "  '/content/drive/MyDrive/images/Train/Athulmk/121.jpg',\n",
              "  '/content/drive/MyDrive/images/Train/Athulmk/119.jpg',\n",
              "  '/content/drive/MyDrive/images/Train/Athulmk/107.jpg',\n",
              "  '/content/drive/MyDrive/images/Train/Athulmk/133.jpg',\n",
              "  '/content/drive/MyDrive/images/Train/Athulmk/146.jpg',\n",
              "  '/content/drive/MyDrive/images/Train/Athulmk/137.jpg',\n",
              "  '/content/drive/MyDrive/images/Train/Athulmk/128.jpg',\n",
              "  '/content/drive/MyDrive/images/Train/Athulmk/130.jpg',\n",
              "  '/content/drive/MyDrive/images/Train/Athulmk/145.jpg',\n",
              "  '/content/drive/MyDrive/images/Train/Athulmk/132.jpg',\n",
              "  '/content/drive/MyDrive/images/Train/Athulmk/138.jpg',\n",
              "  '/content/drive/MyDrive/images/Train/Athulmk/126.jpg',\n",
              "  '/content/drive/MyDrive/images/Train/Athulmk/143.jpg',\n",
              "  '/content/drive/MyDrive/images/Train/Athulmk/141.jpg',\n",
              "  '/content/drive/MyDrive/images/Train/Athulmk/135.jpg',\n",
              "  '/content/drive/MyDrive/images/Train/Athulmk/131.jpg',\n",
              "  '/content/drive/MyDrive/images/Train/Athulmk/129.jpg',\n",
              "  '/content/drive/MyDrive/images/Train/Athulmk/140.jpg',\n",
              "  '/content/drive/MyDrive/images/Train/Athulmk/139.jpg',\n",
              "  '/content/drive/MyDrive/images/Train/Athulmk/136.jpg',\n",
              "  '/content/drive/MyDrive/images/Train/Athulmk/148.jpg',\n",
              "  '/content/drive/MyDrive/images/Train/Athulmk/147.jpg',\n",
              "  '/content/drive/MyDrive/images/Train/Athulmk/144.jpg',\n",
              "  '/content/drive/MyDrive/images/Train/Athulmk/134.jpg',\n",
              "  '/content/drive/MyDrive/images/Train/Athulmk/127.jpg',\n",
              "  '/content/drive/MyDrive/images/Train/Athulmk/149.jpg',\n",
              "  '/content/drive/MyDrive/images/Train/Athulmk/150.jpg',\n",
              "  '/content/drive/MyDrive/images/Train/Athulmk/142.jpg',\n",
              "  '/content/drive/MyDrive/images/Train/Athulmk/125.jpg'],\n",
              " 'Akshay': ['/content/drive/MyDrive/images/Train/Akshay/26.jpg',\n",
              "  '/content/drive/MyDrive/images/Train/Akshay/25.jpg',\n",
              "  '/content/drive/MyDrive/images/Train/Akshay/21.jpg',\n",
              "  '/content/drive/MyDrive/images/Train/Akshay/43.jpg',\n",
              "  '/content/drive/MyDrive/images/Train/Akshay/34.jpg',\n",
              "  '/content/drive/MyDrive/images/Train/Akshay/36.jpg',\n",
              "  '/content/drive/MyDrive/images/Train/Akshay/30.jpg',\n",
              "  '/content/drive/MyDrive/images/Train/Akshay/23.jpg',\n",
              "  '/content/drive/MyDrive/images/Train/Akshay/45.jpg',\n",
              "  '/content/drive/MyDrive/images/Train/Akshay/44.jpg',\n",
              "  '/content/drive/MyDrive/images/Train/Akshay/38.jpg',\n",
              "  '/content/drive/MyDrive/images/Train/Akshay/27.jpg',\n",
              "  '/content/drive/MyDrive/images/Train/Akshay/37.jpg',\n",
              "  '/content/drive/MyDrive/images/Train/Akshay/42.jpg',\n",
              "  '/content/drive/MyDrive/images/Train/Akshay/41.jpg',\n",
              "  '/content/drive/MyDrive/images/Train/Akshay/40.jpg',\n",
              "  '/content/drive/MyDrive/images/Train/Akshay/31.jpg',\n",
              "  '/content/drive/MyDrive/images/Train/Akshay/24.jpg',\n",
              "  '/content/drive/MyDrive/images/Train/Akshay/28.jpg',\n",
              "  '/content/drive/MyDrive/images/Train/Akshay/20.jpg',\n",
              "  '/content/drive/MyDrive/images/Train/Akshay/35.jpg',\n",
              "  '/content/drive/MyDrive/images/Train/Akshay/46.jpg',\n",
              "  '/content/drive/MyDrive/images/Train/Akshay/39.jpg',\n",
              "  '/content/drive/MyDrive/images/Train/Akshay/29.jpg',\n",
              "  '/content/drive/MyDrive/images/Train/Akshay/22.jpg',\n",
              "  '/content/drive/MyDrive/images/Train/Akshay/33.jpg',\n",
              "  '/content/drive/MyDrive/images/Train/Akshay/32.jpg',\n",
              "  '/content/drive/MyDrive/images/Train/Akshay/74.jpg',\n",
              "  '/content/drive/MyDrive/images/Train/Akshay/56.jpg',\n",
              "  '/content/drive/MyDrive/images/Train/Akshay/75.jpg',\n",
              "  '/content/drive/MyDrive/images/Train/Akshay/54.jpg',\n",
              "  '/content/drive/MyDrive/images/Train/Akshay/48.jpg',\n",
              "  '/content/drive/MyDrive/images/Train/Akshay/50.jpg',\n",
              "  '/content/drive/MyDrive/images/Train/Akshay/72.jpg',\n",
              "  '/content/drive/MyDrive/images/Train/Akshay/57.jpg',\n",
              "  '/content/drive/MyDrive/images/Train/Akshay/53.jpg',\n",
              "  '/content/drive/MyDrive/images/Train/Akshay/73.jpg',\n",
              "  '/content/drive/MyDrive/images/Train/Akshay/58.jpg',\n",
              "  '/content/drive/MyDrive/images/Train/Akshay/66.jpg',\n",
              "  '/content/drive/MyDrive/images/Train/Akshay/49.jpg',\n",
              "  '/content/drive/MyDrive/images/Train/Akshay/60.jpg',\n",
              "  '/content/drive/MyDrive/images/Train/Akshay/70.jpg',\n",
              "  '/content/drive/MyDrive/images/Train/Akshay/67.jpg',\n",
              "  '/content/drive/MyDrive/images/Train/Akshay/59.jpg',\n",
              "  '/content/drive/MyDrive/images/Train/Akshay/71.jpg',\n",
              "  '/content/drive/MyDrive/images/Train/Akshay/76.jpg',\n",
              "  '/content/drive/MyDrive/images/Train/Akshay/51.jpg',\n",
              "  '/content/drive/MyDrive/images/Train/Akshay/61.jpg',\n",
              "  '/content/drive/MyDrive/images/Train/Akshay/63.jpg',\n",
              "  '/content/drive/MyDrive/images/Train/Akshay/62.jpg',\n",
              "  '/content/drive/MyDrive/images/Train/Akshay/55.jpg',\n",
              "  '/content/drive/MyDrive/images/Train/Akshay/68.jpg',\n",
              "  '/content/drive/MyDrive/images/Train/Akshay/47.jpg',\n",
              "  '/content/drive/MyDrive/images/Train/Akshay/64.jpg',\n",
              "  '/content/drive/MyDrive/images/Train/Akshay/69.jpg',\n",
              "  '/content/drive/MyDrive/images/Train/Akshay/52.jpg',\n",
              "  '/content/drive/MyDrive/images/Train/Akshay/65.jpg',\n",
              "  '/content/drive/MyDrive/images/Train/Akshay/85.jpg',\n",
              "  '/content/drive/MyDrive/images/Train/Akshay/89.jpg',\n",
              "  '/content/drive/MyDrive/images/Train/Akshay/93.jpg',\n",
              "  '/content/drive/MyDrive/images/Train/Akshay/104.jpg',\n",
              "  '/content/drive/MyDrive/images/Train/Akshay/101.jpg',\n",
              "  '/content/drive/MyDrive/images/Train/Akshay/79.jpg',\n",
              "  '/content/drive/MyDrive/images/Train/Akshay/88.jpg',\n",
              "  '/content/drive/MyDrive/images/Train/Akshay/102.jpg',\n",
              "  '/content/drive/MyDrive/images/Train/Akshay/84.jpg',\n",
              "  '/content/drive/MyDrive/images/Train/Akshay/100.jpg',\n",
              "  '/content/drive/MyDrive/images/Train/Akshay/94.jpg',\n",
              "  '/content/drive/MyDrive/images/Train/Akshay/96.jpg',\n",
              "  '/content/drive/MyDrive/images/Train/Akshay/77.jpg',\n",
              "  '/content/drive/MyDrive/images/Train/Akshay/83.jpg',\n",
              "  '/content/drive/MyDrive/images/Train/Akshay/99.jpg',\n",
              "  '/content/drive/MyDrive/images/Train/Akshay/80.jpg',\n",
              "  '/content/drive/MyDrive/images/Train/Akshay/78.jpg',\n",
              "  '/content/drive/MyDrive/images/Train/Akshay/92.jpg',\n",
              "  '/content/drive/MyDrive/images/Train/Akshay/90.jpg',\n",
              "  '/content/drive/MyDrive/images/Train/Akshay/105.jpg',\n",
              "  '/content/drive/MyDrive/images/Train/Akshay/82.jpg',\n",
              "  '/content/drive/MyDrive/images/Train/Akshay/97.jpg',\n",
              "  '/content/drive/MyDrive/images/Train/Akshay/98.jpg',\n",
              "  '/content/drive/MyDrive/images/Train/Akshay/103.jpg',\n",
              "  '/content/drive/MyDrive/images/Train/Akshay/91.jpg',\n",
              "  '/content/drive/MyDrive/images/Train/Akshay/86.jpg',\n",
              "  '/content/drive/MyDrive/images/Train/Akshay/87.jpg',\n",
              "  '/content/drive/MyDrive/images/Train/Akshay/106.jpg',\n",
              "  '/content/drive/MyDrive/images/Train/Akshay/95.jpg',\n",
              "  '/content/drive/MyDrive/images/Train/Akshay/81.jpg',\n",
              "  '/content/drive/MyDrive/images/Train/Akshay/133.jpg',\n",
              "  '/content/drive/MyDrive/images/Train/Akshay/136.jpg',\n",
              "  '/content/drive/MyDrive/images/Train/Akshay/120.jpg',\n",
              "  '/content/drive/MyDrive/images/Train/Akshay/131.jpg',\n",
              "  '/content/drive/MyDrive/images/Train/Akshay/114.jpg',\n",
              "  '/content/drive/MyDrive/images/Train/Akshay/125.jpg',\n",
              "  '/content/drive/MyDrive/images/Train/Akshay/134.jpg',\n",
              "  '/content/drive/MyDrive/images/Train/Akshay/119.jpg',\n",
              "  '/content/drive/MyDrive/images/Train/Akshay/122.jpg',\n",
              "  '/content/drive/MyDrive/images/Train/Akshay/112.jpg',\n",
              "  '/content/drive/MyDrive/images/Train/Akshay/110.jpg',\n",
              "  '/content/drive/MyDrive/images/Train/Akshay/109.jpg',\n",
              "  '/content/drive/MyDrive/images/Train/Akshay/132.jpg',\n",
              "  '/content/drive/MyDrive/images/Train/Akshay/116.jpg',\n",
              "  '/content/drive/MyDrive/images/Train/Akshay/128.jpg',\n",
              "  '/content/drive/MyDrive/images/Train/Akshay/115.jpg',\n",
              "  '/content/drive/MyDrive/images/Train/Akshay/111.jpg',\n",
              "  '/content/drive/MyDrive/images/Train/Akshay/108.jpg',\n",
              "  '/content/drive/MyDrive/images/Train/Akshay/129.jpg',\n",
              "  '/content/drive/MyDrive/images/Train/Akshay/135.jpg',\n",
              "  '/content/drive/MyDrive/images/Train/Akshay/107.jpg',\n",
              "  '/content/drive/MyDrive/images/Train/Akshay/123.jpg',\n",
              "  '/content/drive/MyDrive/images/Train/Akshay/121.jpg',\n",
              "  '/content/drive/MyDrive/images/Train/Akshay/127.jpg',\n",
              "  '/content/drive/MyDrive/images/Train/Akshay/117.jpg',\n",
              "  '/content/drive/MyDrive/images/Train/Akshay/113.jpg',\n",
              "  '/content/drive/MyDrive/images/Train/Akshay/124.jpg',\n",
              "  '/content/drive/MyDrive/images/Train/Akshay/118.jpg',\n",
              "  '/content/drive/MyDrive/images/Train/Akshay/126.jpg',\n",
              "  '/content/drive/MyDrive/images/Train/Akshay/130.jpg',\n",
              "  '/content/drive/MyDrive/images/Train/Akshay/146.jpg',\n",
              "  '/content/drive/MyDrive/images/Train/Akshay/150.jpg',\n",
              "  '/content/drive/MyDrive/images/Train/Akshay/137.jpg',\n",
              "  '/content/drive/MyDrive/images/Train/Akshay/142.jpg',\n",
              "  '/content/drive/MyDrive/images/Train/Akshay/139.jpg',\n",
              "  '/content/drive/MyDrive/images/Train/Akshay/149.jpg',\n",
              "  '/content/drive/MyDrive/images/Train/Akshay/141.jpg',\n",
              "  '/content/drive/MyDrive/images/Train/Akshay/147.jpg',\n",
              "  '/content/drive/MyDrive/images/Train/Akshay/140.jpg',\n",
              "  '/content/drive/MyDrive/images/Train/Akshay/143.jpg',\n",
              "  '/content/drive/MyDrive/images/Train/Akshay/148.jpg',\n",
              "  '/content/drive/MyDrive/images/Train/Akshay/138.jpg',\n",
              "  '/content/drive/MyDrive/images/Train/Akshay/144.jpg',\n",
              "  '/content/drive/MyDrive/images/Train/Akshay/145.jpg'],\n",
              " 'Sreeshnu': ['/content/drive/MyDrive/images/Train/Sreeshnu/25.jpg',\n",
              "  '/content/drive/MyDrive/images/Train/Sreeshnu/23.jpg',\n",
              "  '/content/drive/MyDrive/images/Train/Sreeshnu/21.jpg',\n",
              "  '/content/drive/MyDrive/images/Train/Sreeshnu/20.jpg',\n",
              "  '/content/drive/MyDrive/images/Train/Sreeshnu/24.jpg',\n",
              "  '/content/drive/MyDrive/images/Train/Sreeshnu/22.jpg',\n",
              "  '/content/drive/MyDrive/images/Train/Sreeshnu/40.jpg',\n",
              "  '/content/drive/MyDrive/images/Train/Sreeshnu/26.jpg',\n",
              "  '/content/drive/MyDrive/images/Train/Sreeshnu/42.jpg',\n",
              "  '/content/drive/MyDrive/images/Train/Sreeshnu/31.jpg',\n",
              "  '/content/drive/MyDrive/images/Train/Sreeshnu/55.jpg',\n",
              "  '/content/drive/MyDrive/images/Train/Sreeshnu/54.jpg',\n",
              "  '/content/drive/MyDrive/images/Train/Sreeshnu/28.jpg',\n",
              "  '/content/drive/MyDrive/images/Train/Sreeshnu/52.jpg',\n",
              "  '/content/drive/MyDrive/images/Train/Sreeshnu/32.jpg',\n",
              "  '/content/drive/MyDrive/images/Train/Sreeshnu/44.jpg',\n",
              "  '/content/drive/MyDrive/images/Train/Sreeshnu/39.jpg',\n",
              "  '/content/drive/MyDrive/images/Train/Sreeshnu/33.jpg',\n",
              "  '/content/drive/MyDrive/images/Train/Sreeshnu/48.jpg',\n",
              "  '/content/drive/MyDrive/images/Train/Sreeshnu/30.jpg',\n",
              "  '/content/drive/MyDrive/images/Train/Sreeshnu/49.jpg',\n",
              "  '/content/drive/MyDrive/images/Train/Sreeshnu/51.jpg',\n",
              "  '/content/drive/MyDrive/images/Train/Sreeshnu/36.jpg',\n",
              "  '/content/drive/MyDrive/images/Train/Sreeshnu/35.jpg',\n",
              "  '/content/drive/MyDrive/images/Train/Sreeshnu/53.jpg',\n",
              "  '/content/drive/MyDrive/images/Train/Sreeshnu/50.jpg',\n",
              "  '/content/drive/MyDrive/images/Train/Sreeshnu/47.jpg',\n",
              "  '/content/drive/MyDrive/images/Train/Sreeshnu/37.jpg',\n",
              "  '/content/drive/MyDrive/images/Train/Sreeshnu/41.jpg',\n",
              "  '/content/drive/MyDrive/images/Train/Sreeshnu/46.jpg',\n",
              "  '/content/drive/MyDrive/images/Train/Sreeshnu/45.jpg',\n",
              "  '/content/drive/MyDrive/images/Train/Sreeshnu/29.jpg',\n",
              "  '/content/drive/MyDrive/images/Train/Sreeshnu/43.jpg',\n",
              "  '/content/drive/MyDrive/images/Train/Sreeshnu/27.jpg',\n",
              "  '/content/drive/MyDrive/images/Train/Sreeshnu/34.jpg',\n",
              "  '/content/drive/MyDrive/images/Train/Sreeshnu/38.jpg',\n",
              "  '/content/drive/MyDrive/images/Train/Sreeshnu/83.jpg',\n",
              "  '/content/drive/MyDrive/images/Train/Sreeshnu/64.jpg',\n",
              "  '/content/drive/MyDrive/images/Train/Sreeshnu/78.jpg',\n",
              "  '/content/drive/MyDrive/images/Train/Sreeshnu/57.jpg',\n",
              "  '/content/drive/MyDrive/images/Train/Sreeshnu/63.jpg',\n",
              "  '/content/drive/MyDrive/images/Train/Sreeshnu/72.jpg',\n",
              "  '/content/drive/MyDrive/images/Train/Sreeshnu/68.jpg',\n",
              "  '/content/drive/MyDrive/images/Train/Sreeshnu/75.jpg',\n",
              "  '/content/drive/MyDrive/images/Train/Sreeshnu/80.jpg',\n",
              "  '/content/drive/MyDrive/images/Train/Sreeshnu/81.jpg',\n",
              "  '/content/drive/MyDrive/images/Train/Sreeshnu/76.jpg',\n",
              "  '/content/drive/MyDrive/images/Train/Sreeshnu/79.jpg',\n",
              "  '/content/drive/MyDrive/images/Train/Sreeshnu/66.jpg',\n",
              "  '/content/drive/MyDrive/images/Train/Sreeshnu/74.jpg',\n",
              "  '/content/drive/MyDrive/images/Train/Sreeshnu/67.jpg',\n",
              "  '/content/drive/MyDrive/images/Train/Sreeshnu/62.jpg',\n",
              "  '/content/drive/MyDrive/images/Train/Sreeshnu/77.jpg',\n",
              "  '/content/drive/MyDrive/images/Train/Sreeshnu/59.jpg',\n",
              "  '/content/drive/MyDrive/images/Train/Sreeshnu/56.jpg',\n",
              "  '/content/drive/MyDrive/images/Train/Sreeshnu/84.jpg',\n",
              "  '/content/drive/MyDrive/images/Train/Sreeshnu/69.jpg',\n",
              "  '/content/drive/MyDrive/images/Train/Sreeshnu/61.jpg',\n",
              "  '/content/drive/MyDrive/images/Train/Sreeshnu/70.jpg',\n",
              "  '/content/drive/MyDrive/images/Train/Sreeshnu/58.jpg',\n",
              "  '/content/drive/MyDrive/images/Train/Sreeshnu/65.jpg',\n",
              "  '/content/drive/MyDrive/images/Train/Sreeshnu/85.jpg',\n",
              "  '/content/drive/MyDrive/images/Train/Sreeshnu/71.jpg',\n",
              "  '/content/drive/MyDrive/images/Train/Sreeshnu/82.jpg',\n",
              "  '/content/drive/MyDrive/images/Train/Sreeshnu/73.jpg',\n",
              "  '/content/drive/MyDrive/images/Train/Sreeshnu/60.jpg',\n",
              "  '/content/drive/MyDrive/images/Train/Sreeshnu/96.jpg',\n",
              "  '/content/drive/MyDrive/images/Train/Sreeshnu/88.jpg',\n",
              "  '/content/drive/MyDrive/images/Train/Sreeshnu/94.jpg',\n",
              "  '/content/drive/MyDrive/images/Train/Sreeshnu/89.jpg',\n",
              "  '/content/drive/MyDrive/images/Train/Sreeshnu/100.jpg',\n",
              "  '/content/drive/MyDrive/images/Train/Sreeshnu/90.jpg',\n",
              "  '/content/drive/MyDrive/images/Train/Sreeshnu/111.jpg',\n",
              "  '/content/drive/MyDrive/images/Train/Sreeshnu/106.jpg',\n",
              "  '/content/drive/MyDrive/images/Train/Sreeshnu/108.jpg',\n",
              "  '/content/drive/MyDrive/images/Train/Sreeshnu/110.jpg',\n",
              "  '/content/drive/MyDrive/images/Train/Sreeshnu/97.jpg',\n",
              "  '/content/drive/MyDrive/images/Train/Sreeshnu/102.jpg',\n",
              "  '/content/drive/MyDrive/images/Train/Sreeshnu/104.jpg',\n",
              "  '/content/drive/MyDrive/images/Train/Sreeshnu/91.jpg',\n",
              "  '/content/drive/MyDrive/images/Train/Sreeshnu/98.jpg',\n",
              "  '/content/drive/MyDrive/images/Train/Sreeshnu/99.jpg',\n",
              "  '/content/drive/MyDrive/images/Train/Sreeshnu/113.jpg',\n",
              "  '/content/drive/MyDrive/images/Train/Sreeshnu/109.jpg',\n",
              "  '/content/drive/MyDrive/images/Train/Sreeshnu/107.jpg',\n",
              "  '/content/drive/MyDrive/images/Train/Sreeshnu/105.jpg',\n",
              "  '/content/drive/MyDrive/images/Train/Sreeshnu/93.jpg',\n",
              "  '/content/drive/MyDrive/images/Train/Sreeshnu/86.jpg',\n",
              "  '/content/drive/MyDrive/images/Train/Sreeshnu/101.jpg',\n",
              "  '/content/drive/MyDrive/images/Train/Sreeshnu/92.jpg',\n",
              "  '/content/drive/MyDrive/images/Train/Sreeshnu/95.jpg',\n",
              "  '/content/drive/MyDrive/images/Train/Sreeshnu/115.jpg',\n",
              "  '/content/drive/MyDrive/images/Train/Sreeshnu/103.jpg',\n",
              "  '/content/drive/MyDrive/images/Train/Sreeshnu/87.jpg',\n",
              "  '/content/drive/MyDrive/images/Train/Sreeshnu/112.jpg',\n",
              "  '/content/drive/MyDrive/images/Train/Sreeshnu/114.jpg',\n",
              "  '/content/drive/MyDrive/images/Train/Sreeshnu/117.jpg',\n",
              "  '/content/drive/MyDrive/images/Train/Sreeshnu/116.jpg',\n",
              "  '/content/drive/MyDrive/images/Train/Sreeshnu/145.jpg',\n",
              "  '/content/drive/MyDrive/images/Train/Sreeshnu/137.jpg',\n",
              "  '/content/drive/MyDrive/images/Train/Sreeshnu/126.jpg',\n",
              "  '/content/drive/MyDrive/images/Train/Sreeshnu/143.jpg',\n",
              "  '/content/drive/MyDrive/images/Train/Sreeshnu/129.jpg',\n",
              "  '/content/drive/MyDrive/images/Train/Sreeshnu/142.jpg',\n",
              "  '/content/drive/MyDrive/images/Train/Sreeshnu/120.jpg',\n",
              "  '/content/drive/MyDrive/images/Train/Sreeshnu/135.jpg',\n",
              "  '/content/drive/MyDrive/images/Train/Sreeshnu/144.jpg',\n",
              "  '/content/drive/MyDrive/images/Train/Sreeshnu/133.jpg',\n",
              "  '/content/drive/MyDrive/images/Train/Sreeshnu/119.jpg',\n",
              "  '/content/drive/MyDrive/images/Train/Sreeshnu/121.jpg',\n",
              "  '/content/drive/MyDrive/images/Train/Sreeshnu/140.jpg',\n",
              "  '/content/drive/MyDrive/images/Train/Sreeshnu/139.jpg',\n",
              "  '/content/drive/MyDrive/images/Train/Sreeshnu/134.jpg',\n",
              "  '/content/drive/MyDrive/images/Train/Sreeshnu/138.jpg',\n",
              "  '/content/drive/MyDrive/images/Train/Sreeshnu/128.jpg',\n",
              "  '/content/drive/MyDrive/images/Train/Sreeshnu/124.jpg',\n",
              "  '/content/drive/MyDrive/images/Train/Sreeshnu/123.jpg',\n",
              "  '/content/drive/MyDrive/images/Train/Sreeshnu/125.jpg',\n",
              "  '/content/drive/MyDrive/images/Train/Sreeshnu/136.jpg',\n",
              "  '/content/drive/MyDrive/images/Train/Sreeshnu/132.jpg',\n",
              "  '/content/drive/MyDrive/images/Train/Sreeshnu/141.jpg',\n",
              "  '/content/drive/MyDrive/images/Train/Sreeshnu/127.jpg',\n",
              "  '/content/drive/MyDrive/images/Train/Sreeshnu/130.jpg',\n",
              "  '/content/drive/MyDrive/images/Train/Sreeshnu/131.jpg',\n",
              "  '/content/drive/MyDrive/images/Train/Sreeshnu/118.jpg',\n",
              "  '/content/drive/MyDrive/images/Train/Sreeshnu/122.jpg',\n",
              "  '/content/drive/MyDrive/images/Train/Sreeshnu/146.jpg',\n",
              "  '/content/drive/MyDrive/images/Train/Sreeshnu/150.jpg',\n",
              "  '/content/drive/MyDrive/images/Train/Sreeshnu/149.jpg',\n",
              "  '/content/drive/MyDrive/images/Train/Sreeshnu/148.jpg',\n",
              "  '/content/drive/MyDrive/images/Train/Sreeshnu/147.jpg']}"
            ]
          },
          "execution_count": 29,
          "metadata": {},
          "output_type": "execute_result"
        }
      ],
      "source": [
        "input={'Athulmk':athul,'Akshay':akshay,'Sreeshnu':sreeshnu}\n",
        "input"
      ]
    },
    {
      "cell_type": "code",
      "execution_count": null,
      "metadata": {
        "colab": {
          "base_uri": "https://localhost:8080/"
        },
        "id": "NqtB3e5WyqZv",
        "outputId": "e78bee98-f1a7-4821-d916-997c71b9064f"
      },
      "outputs": [
        {
          "data": {
            "text/plain": [
              "{'Athulmk': 0, 'Akshay': 1, 'Sreeshnu': 2}"
            ]
          },
          "execution_count": 30,
          "metadata": {},
          "output_type": "execute_result"
        }
      ],
      "source": [
        "output={'Athulmk':0,'Akshay':1,'Sreeshnu':2}\n",
        "output"
      ]
    },
    {
      "cell_type": "code",
      "execution_count": null,
      "metadata": {
        "id": "p5NqrD0EzWQo"
      },
      "outputs": [],
      "source": [
        "import numpy as np\n",
        "import cv2\n",
        "import os\n",
        "x=[]\n",
        "y=[]\n",
        "for photo in input:\n",
        "  path=input[photo]\n",
        "  #print(path)\n",
        "  for data in path:\n",
        "    img_arr=cv2.imread(data)\n",
        "    #print(img_arr)\n",
        "    img_arr_resize=cv2.resize(img_arr,(224,224))\n",
        "    img_arr_resize=img_arr_resize/255\n",
        "    img_arr_resize=img_arr_resize.reshape(224,224,3,1)\n",
        "    # print(img_arr_resize)\n",
        "    x.append(img_arr_resize)\n",
        "    y.append(output[photo])\n",
        "    test=np.array(x)\n",
        "    train=np.array(y)\n",
        "\n"
      ]
    },
    {
      "cell_type": "code",
      "execution_count": null,
      "metadata": {
        "colab": {
          "base_uri": "https://localhost:8080/"
        },
        "id": "vNkm2wcf3P2-",
        "outputId": "328bc191-8c79-4aa8-c83e-984c930364bb"
      },
      "outputs": [
        {
          "data": {
            "text/plain": [
              "array([0, 0, 0, 0, 0, 0, 0, 0, 0, 0, 0, 0, 0, 0, 0, 0, 0, 0, 0, 0, 0, 0,\n",
              "       0, 0, 0, 0, 0, 0, 0, 0, 0, 0, 0, 0, 0, 0, 0, 0, 0, 0, 0, 0, 0, 0,\n",
              "       0, 0, 0, 0, 0, 0, 0, 0, 0, 0, 0, 0, 0, 0, 0, 0, 0, 0, 0, 0, 0, 0,\n",
              "       0, 0, 0, 0, 0, 0, 0, 0, 0, 0, 0, 0, 0, 0, 0, 0, 0, 0, 0, 0, 0, 0,\n",
              "       0, 0, 0, 0, 0, 0, 0, 0, 0, 0, 0, 0, 0, 0, 0, 0, 0, 0, 0, 0, 0, 0,\n",
              "       0, 0, 0, 0, 0, 0, 0, 0, 0, 0, 0, 0, 0, 0, 0, 0, 0, 0, 0, 0, 0, 1,\n",
              "       1, 1, 1, 1, 1, 1, 1, 1, 1, 1, 1, 1, 1, 1, 1, 1, 1, 1, 1, 1, 1, 1,\n",
              "       1, 1, 1, 1, 1, 1, 1, 1, 1, 1, 1, 1, 1, 1, 1, 1, 1, 1, 1, 1, 1, 1,\n",
              "       1, 1, 1, 1, 1, 1, 1, 1, 1, 1, 1, 1, 1, 1, 1, 1, 1, 1, 1, 1, 1, 1,\n",
              "       1, 1, 1, 1, 1, 1, 1, 1, 1, 1, 1, 1, 1, 1, 1, 1, 1, 1, 1, 1, 1, 1,\n",
              "       1, 1, 1, 1, 1, 1, 1, 1, 1, 1, 1, 1, 1, 1, 1, 1, 1, 1, 1, 1, 1, 1,\n",
              "       1, 1, 1, 1, 1, 1, 1, 1, 1, 1, 1, 1, 1, 1, 1, 1, 1, 1, 1, 1, 2, 2,\n",
              "       2, 2, 2, 2, 2, 2, 2, 2, 2, 2, 2, 2, 2, 2, 2, 2, 2, 2, 2, 2, 2, 2,\n",
              "       2, 2, 2, 2, 2, 2, 2, 2, 2, 2, 2, 2, 2, 2, 2, 2, 2, 2, 2, 2, 2, 2,\n",
              "       2, 2, 2, 2, 2, 2, 2, 2, 2, 2, 2, 2, 2, 2, 2, 2, 2, 2, 2, 2, 2, 2,\n",
              "       2, 2, 2, 2, 2, 2, 2, 2, 2, 2, 2, 2, 2, 2, 2, 2, 2, 2, 2, 2, 2, 2,\n",
              "       2, 2, 2, 2, 2, 2, 2, 2, 2, 2, 2, 2, 2, 2, 2, 2, 2, 2, 2, 2, 2, 2,\n",
              "       2, 2, 2, 2, 2, 2, 2, 2, 2, 2, 2, 2, 2, 2, 2, 2, 2, 2, 2])"
            ]
          },
          "execution_count": 32,
          "metadata": {},
          "output_type": "execute_result"
        }
      ],
      "source": [
        "train"
      ]
    },
    {
      "cell_type": "code",
      "execution_count": null,
      "metadata": {
        "id": "CSfAymap2cUA"
      },
      "outputs": [],
      "source": [
        "from sklearn.model_selection import train_test_split\n",
        "x_train,x_test,y_train,y_test=train_test_split(x,y,test_size=0.2)"
      ]
    },
    {
      "cell_type": "code",
      "execution_count": null,
      "metadata": {
        "id": "70eRMWdpzwZQ"
      },
      "outputs": [],
      "source": [
        "import keras\n",
        "import keras.applications\n",
        "vgg19_model=keras.applications.vgg19.VGG19(include_top=False,input_shape=(224,224,3))"
      ]
    },
    {
      "cell_type": "code",
      "execution_count": null,
      "metadata": {
        "colab": {
          "base_uri": "https://localhost:8080/"
        },
        "id": "vnN5VHRo4cd3",
        "outputId": "cd93ca34-59bd-420a-963a-eb412ecabbe4"
      },
      "outputs": [
        {
          "data": {
            "text/plain": [
              "<keras.src.engine.sequential.Sequential at 0x7e8ef6e5c4c0>"
            ]
          },
          "execution_count": 35,
          "metadata": {},
          "output_type": "execute_result"
        }
      ],
      "source": [
        "from keras.models import Sequential\n",
        "model=Sequential()\n",
        "model"
      ]
    },
    {
      "cell_type": "code",
      "execution_count": null,
      "metadata": {
        "id": "BCpUXn8O450m"
      },
      "outputs": [],
      "source": [
        "for layers in vgg19_model.layers:\n",
        "  model.add(layers)"
      ]
    },
    {
      "cell_type": "code",
      "execution_count": null,
      "metadata": {
        "id": "KYrqjWWT5Df-"
      },
      "outputs": [],
      "source": [
        "from tensorflow.keras.layers import Flatten,Dense\n",
        "model.add(Flatten())\n",
        "model.add(Dense(units=30,activation='relu'))\n",
        "model.add(Dense(units=10,activation='sigmoid'))"
      ]
    },
    {
      "cell_type": "code",
      "execution_count": null,
      "metadata": {
        "id": "2nCx9Jrh599d"
      },
      "outputs": [],
      "source": [
        "for layer in model.layers:\n",
        "    layer.trainable = False\n"
      ]
    },
    {
      "cell_type": "code",
      "execution_count": null,
      "metadata": {
        "id": "R6YKfgEAa2VW"
      },
      "outputs": [],
      "source": [
        "model.add(Dense(5,activation='softmax'))"
      ]
    },
    {
      "cell_type": "code",
      "execution_count": null,
      "metadata": {
        "colab": {
          "base_uri": "https://localhost:8080/"
        },
        "id": "kCprLhUkbBv4",
        "outputId": "c47d1da4-f846-477e-c68e-c79b642d5819"
      },
      "outputs": [
        {
          "name": "stdout",
          "output_type": "stream",
          "text": [
            "Model: \"sequential_1\"\n",
            "_________________________________________________________________\n",
            " Layer (type)                Output Shape              Param #   \n",
            "=================================================================\n",
            " block1_conv1 (Conv2D)       (None, 224, 224, 64)      1792      \n",
            "                                                                 \n",
            " block1_conv2 (Conv2D)       (None, 224, 224, 64)      36928     \n",
            "                                                                 \n",
            " block1_pool (MaxPooling2D)  (None, 112, 112, 64)      0         \n",
            "                                                                 \n",
            " block2_conv1 (Conv2D)       (None, 112, 112, 128)     73856     \n",
            "                                                                 \n",
            " block2_conv2 (Conv2D)       (None, 112, 112, 128)     147584    \n",
            "                                                                 \n",
            " block2_pool (MaxPooling2D)  (None, 56, 56, 128)       0         \n",
            "                                                                 \n",
            " block3_conv1 (Conv2D)       (None, 56, 56, 256)       295168    \n",
            "                                                                 \n",
            " block3_conv2 (Conv2D)       (None, 56, 56, 256)       590080    \n",
            "                                                                 \n",
            " block3_conv3 (Conv2D)       (None, 56, 56, 256)       590080    \n",
            "                                                                 \n",
            " block3_conv4 (Conv2D)       (None, 56, 56, 256)       590080    \n",
            "                                                                 \n",
            " block3_pool (MaxPooling2D)  (None, 28, 28, 256)       0         \n",
            "                                                                 \n",
            " block4_conv1 (Conv2D)       (None, 28, 28, 512)       1180160   \n",
            "                                                                 \n",
            " block4_conv2 (Conv2D)       (None, 28, 28, 512)       2359808   \n",
            "                                                                 \n",
            " block4_conv3 (Conv2D)       (None, 28, 28, 512)       2359808   \n",
            "                                                                 \n",
            " block4_conv4 (Conv2D)       (None, 28, 28, 512)       2359808   \n",
            "                                                                 \n",
            " block4_pool (MaxPooling2D)  (None, 14, 14, 512)       0         \n",
            "                                                                 \n",
            " block5_conv1 (Conv2D)       (None, 14, 14, 512)       2359808   \n",
            "                                                                 \n",
            " block5_conv2 (Conv2D)       (None, 14, 14, 512)       2359808   \n",
            "                                                                 \n",
            " block5_conv3 (Conv2D)       (None, 14, 14, 512)       2359808   \n",
            "                                                                 \n",
            " block5_conv4 (Conv2D)       (None, 14, 14, 512)       2359808   \n",
            "                                                                 \n",
            " block5_pool (MaxPooling2D)  (None, 7, 7, 512)         0         \n",
            "                                                                 \n",
            " flatten_1 (Flatten)         (None, 25088)             0         \n",
            "                                                                 \n",
            " dense_3 (Dense)             (None, 30)                752670    \n",
            "                                                                 \n",
            " dense_4 (Dense)             (None, 10)                310       \n",
            "                                                                 \n",
            " dense_5 (Dense)             (None, 5)                 55        \n",
            "                                                                 \n",
            "=================================================================\n",
            "Total params: 20777419 (79.26 MB)\n",
            "Trainable params: 55 (220.00 Byte)\n",
            "Non-trainable params: 20777364 (79.26 MB)\n",
            "_________________________________________________________________\n"
          ]
        }
      ],
      "source": [
        "model.summary()"
      ]
    },
    {
      "cell_type": "code",
      "execution_count": null,
      "metadata": {
        "id": "_DTlhyhzbEt4"
      },
      "outputs": [],
      "source": [
        "from tensorflow.keras.losses import SparseCategoricalCrossentropy\n",
        "from tensorflow.keras.optimizers import Adam"
      ]
    },
    {
      "cell_type": "code",
      "execution_count": null,
      "metadata": {
        "id": "em0XL6wRcHAt"
      },
      "outputs": [],
      "source": [
        "from keras import losses\n",
        "model.compile(loss=SparseCategoricalCrossentropy(),optimizer=Adam(),metrics=['accuracy'])\n"
      ]
    },
    {
      "cell_type": "code",
      "execution_count": null,
      "metadata": {
        "id": "YyshGewIc1K3"
      },
      "outputs": [],
      "source": [
        "import numpy as np\n",
        "x_train=np.array(x_train)\n",
        "y_train=np.array(y_train)\n",
        "x_test=np.array(x_test)\n",
        "y_test=np.array(y_test)"
      ]
    },
    {
      "cell_type": "code",
      "execution_count": null,
      "metadata": {
        "colab": {
          "base_uri": "https://localhost:8080/"
        },
        "id": "TQE_R9jTcdxM",
        "outputId": "d47b1887-f94c-42e5-ab84-608c7a2ba683"
      },
      "outputs": [
        {
          "name": "stdout",
          "output_type": "stream",
          "text": [
            "Epoch 1/10\n",
            "7/7 [==============================] - 336s 49s/step - loss: 1.8283 - accuracy: 0.0000e+00 - val_loss: 1.8059 - val_accuracy: 0.0000e+00\n",
            "Epoch 2/10\n",
            "7/7 [==============================] - 312s 46s/step - loss: 1.7854 - accuracy: 0.0000e+00 - val_loss: 1.7652 - val_accuracy: 0.0000e+00\n",
            "Epoch 3/10\n",
            "7/7 [==============================] - 312s 46s/step - loss: 1.7450 - accuracy: 0.0000e+00 - val_loss: 1.7266 - val_accuracy: 0.0000e+00\n",
            "Epoch 4/10\n",
            "7/7 [==============================] - 327s 48s/step - loss: 1.7069 - accuracy: 0.0000e+00 - val_loss: 1.6906 - val_accuracy: 0.0000e+00\n",
            "Epoch 5/10\n",
            "7/7 [==============================] - 311s 46s/step - loss: 1.6710 - accuracy: 0.0000e+00 - val_loss: 1.6572 - val_accuracy: 0.0000e+00\n",
            "Epoch 6/10\n",
            "7/7 [==============================] - 328s 48s/step - loss: 1.6377 - accuracy: 0.0000e+00 - val_loss: 1.6262 - val_accuracy: 0.0000e+00\n",
            "Epoch 7/10\n",
            "7/7 [==============================] - 374s 56s/step - loss: 1.6064 - accuracy: 0.0000e+00 - val_loss: 1.5967 - val_accuracy: 0.0000e+00\n",
            "Epoch 8/10\n",
            "7/7 [==============================] - 331s 49s/step - loss: 1.5773 - accuracy: 0.0127 - val_loss: 1.5689 - val_accuracy: 0.1392\n",
            "Epoch 9/10\n",
            "7/7 [==============================] - 333s 49s/step - loss: 1.5502 - accuracy: 0.3376 - val_loss: 1.5428 - val_accuracy: 0.2405\n",
            "Epoch 10/10\n",
            "7/7 [==============================] - 308s 45s/step - loss: 1.5250 - accuracy: 0.3567 - val_loss: 1.5196 - val_accuracy: 0.2405\n"
          ]
        }
      ],
      "source": [
        "a=model.fit(x_train,y_train,batch_size=50,epochs=10,validation_data=(x_test,y_test))"
      ]
    },
    {
      "cell_type": "code",
      "execution_count": null,
      "metadata": {
        "colab": {
          "base_uri": "https://localhost:8080/"
        },
        "id": "2k8CON2JdlWZ",
        "outputId": "dc06a5f1-cd42-4fd9-af9d-569288f1ab32"
      },
      "outputs": [
        {
          "data": {
            "text/plain": [
              "(314, 224, 224, 3, 1)"
            ]
          },
          "execution_count": 45,
          "metadata": {},
          "output_type": "execute_result"
        }
      ],
      "source": [
        "x_train.shape"
      ]
    },
    {
      "cell_type": "code",
      "execution_count": null,
      "metadata": {
        "colab": {
          "base_uri": "https://localhost:8080/"
        },
        "id": "Vp4Tca8BdnDj",
        "outputId": "ce0d593d-127e-4170-9209-eec6b03920a5"
      },
      "outputs": [
        {
          "data": {
            "text/plain": [
              "(79, 224, 224, 3, 1)"
            ]
          },
          "execution_count": 46,
          "metadata": {},
          "output_type": "execute_result"
        }
      ],
      "source": [
        "x_test.shape"
      ]
    },
    {
      "cell_type": "code",
      "execution_count": null,
      "metadata": {
        "colab": {
          "base_uri": "https://localhost:8080/"
        },
        "id": "aNFVBgf4dqpj",
        "outputId": "6d7a0493-1188-41f4-9ee4-3fdc666fea94"
      },
      "outputs": [
        {
          "data": {
            "text/plain": [
              "(314,)"
            ]
          },
          "execution_count": 47,
          "metadata": {},
          "output_type": "execute_result"
        }
      ],
      "source": [
        "y_train.shape"
      ]
    },
    {
      "cell_type": "code",
      "execution_count": null,
      "metadata": {
        "colab": {
          "base_uri": "https://localhost:8080/"
        },
        "id": "Z1L5z13-dtwE",
        "outputId": "52c7bbcd-e7f5-4fc5-ff81-6f213af1a9b8"
      },
      "outputs": [
        {
          "data": {
            "text/plain": [
              "(79,)"
            ]
          },
          "execution_count": 48,
          "metadata": {},
          "output_type": "execute_result"
        }
      ],
      "source": [
        "y_test.shape"
      ]
    },
    {
      "cell_type": "code",
      "execution_count": null,
      "metadata": {
        "id": "6BEvBvppdv3c"
      },
      "outputs": [],
      "source": [
        "import tensorflow as tf\n",
        "from tensorflow.keras.preprocessing.image import ImageDataGenerator\n",
        "from tensorflow.keras.layers import GlobalAveragePooling2D"
      ]
    },
    {
      "cell_type": "code",
      "execution_count": null,
      "metadata": {
        "id": "kuNmmr4HeO7e"
      },
      "outputs": [],
      "source": [
        "img_size=(224,224)\n",
        "batch_size=32"
      ]
    },
    {
      "cell_type": "code",
      "execution_count": null,
      "metadata": {
        "colab": {
          "base_uri": "https://localhost:8080/"
        },
        "id": "b2ghToA0eTxc",
        "outputId": "1477e087-7a3d-4e9c-8d16-1e37f7d52b25"
      },
      "outputs": [
        {
          "name": "stdout",
          "output_type": "stream",
          "text": [
            "<keras.src.preprocessing.image.ImageDataGenerator object at 0x7e8ef448fc10>\n"
          ]
        }
      ],
      "source": [
        "train_datagen=ImageDataGenerator(\n",
        "    rescale=1/255,\n",
        "    shear_range=0.2,\n",
        "    zoom_range=0.2,\n",
        "    horizontal_flip=True\n",
        ")\n",
        "print(train_datagen)"
      ]
    },
    {
      "cell_type": "code",
      "execution_count": null,
      "metadata": {
        "id": "SpTTmZwJepxs"
      },
      "outputs": [],
      "source": [
        "from tensorflow.keras.applications import VGG19\n",
        "base_model = VGG19(weights='imagenet', include_top=False, input_shape=(224, 224, 3))\n"
      ]
    },
    {
      "cell_type": "code",
      "execution_count": null,
      "metadata": {
        "id": "55t1dRFQgovV"
      },
      "outputs": [],
      "source": [
        "x=base_model.output\n",
        "x=GlobalAveragePooling2D()(x)\n",
        "x=Dense(128,activation='relu')(x)\n",
        "predictions=Dense(1,activation='sigmoid')(x)"
      ]
    },
    {
      "cell_type": "code",
      "execution_count": null,
      "metadata": {
        "id": "KnUPjNqofG1l"
      },
      "outputs": [],
      "source": [
        "from keras.models import Sequential, Model\n",
        "from keras.layers import Input\n",
        "model = Model(inputs=base_model.input, outputs=predictions)\n"
      ]
    },
    {
      "cell_type": "code",
      "execution_count": null,
      "metadata": {
        "id": "jNf3ObHCgXCL"
      },
      "outputs": [],
      "source": [
        "pip install nbconvert\n"
      ]
    },
    {
      "cell_type": "code",
      "execution_count": null,
      "metadata": {
        "id": "snLQCI8bon6Z"
      },
      "outputs": [],
      "source": [
        "jupyter nbconvert --to script Image Training(26122023).ipynb"
      ]
    },
    {
      "cell_type": "code",
      "execution_count": null,
      "metadata": {
        "id": "cb3xVjnpooEI"
      },
      "outputs": [],
      "source": [
        "cp Image Training(26122023).py Image Training.h"
      ]
    },
    {
      "cell_type": "code",
      "execution_count": null,
      "metadata": {
        "id": "x6NAM-UcooVQ"
      },
      "outputs": [],
      "source": [
        "##Applying Splitfolders\n"
      ]
    },
    {
      "cell_type": "code",
      "execution_count": null,
      "metadata": {
        "id": "dVNaMZB7ot50"
      },
      "outputs": [],
      "source": [
        "import tensorflow as tf\n",
        "from tensorflow.keras.preprocessing.image import ImageDataGenerator\n",
        "from tensorflow.keras.layers import Dense,GlobalAveragePooling2D\n",
        "from tensorflow.keras.models import Model\n",
        "from tensorflow.keras.optimizers import Adam\n",
        "from tensorflow.keras.applications import VGG19\n"
      ]
    },
    {
      "cell_type": "code",
      "execution_count": null,
      "metadata": {
        "id": "PXPjPcxQpZrX"
      },
      "outputs": [],
      "source": [
        "train_dir=('/content/drive/MyDrive/images/Train')\n",
        "val_dir=('/content/drive/MyDrive/images/Test')"
      ]
    },
    {
      "cell_type": "code",
      "execution_count": null,
      "metadata": {
        "colab": {
          "base_uri": "https://localhost:8080/",
          "height": 35
        },
        "id": "oQ-b4GPBpmI6",
        "outputId": "9ea5e3de-ce7c-4366-871d-184790ad530f"
      },
      "outputs": [
        {
          "data": {
            "application/vnd.google.colaboratory.intrinsic+json": {
              "type": "string"
            },
            "text/plain": [
              "'/content/drive/MyDrive/images/Train'"
            ]
          },
          "execution_count": 58,
          "metadata": {},
          "output_type": "execute_result"
        }
      ],
      "source": [
        "train_dir"
      ]
    },
    {
      "cell_type": "code",
      "execution_count": null,
      "metadata": {
        "id": "mbEp_jw6pnjk"
      },
      "outputs": [],
      "source": [
        "img_size=(224,224)\n",
        "batch_size=32"
      ]
    },
    {
      "cell_type": "code",
      "execution_count": null,
      "metadata": {
        "id": "UqaWu1dxptdT"
      },
      "outputs": [],
      "source": [
        "train_datagen=ImageDataGenerator(\n",
        "    rescale=1/255,\n",
        "    shear_range=0.2,\n",
        "    zoom_range=0.2,\n",
        "    horizontal_flip=True\n",
        ")"
      ]
    },
    {
      "cell_type": "code",
      "execution_count": null,
      "metadata": {
        "colab": {
          "base_uri": "https://localhost:8080/"
        },
        "id": "jrRKEsL3p_yv",
        "outputId": "c81c18d4-bef1-40d7-9657-4bb6d53ef324"
      },
      "outputs": [
        {
          "name": "stdout",
          "output_type": "stream",
          "text": [
            "Found 393 images belonging to 3 classes.\n"
          ]
        }
      ],
      "source": [
        "train_generator=train_datagen.flow_from_directory(\n",
        "    train_dir,\n",
        "    target_size=img_size,\n",
        "    batch_size=batch_size,\n",
        "    class_mode='categorical'\n",
        ")"
      ]
    },
    {
      "cell_type": "code",
      "execution_count": null,
      "metadata": {
        "id": "4CDN99oWrQgD"
      },
      "outputs": [],
      "source": [
        "validation_datagen=ImageDataGenerator(rescale=1/255)"
      ]
    },
    {
      "cell_type": "code",
      "execution_count": null,
      "metadata": {
        "colab": {
          "base_uri": "https://localhost:8080/"
        },
        "id": "wqU_cL0hqbz6",
        "outputId": "a06abc80-2494-454d-b58c-1e4fbd57d46d"
      },
      "outputs": [
        {
          "name": "stdout",
          "output_type": "stream",
          "text": [
            "Found 60 images belonging to 3 classes.\n"
          ]
        }
      ],
      "source": [
        "validation_generator=validation_datagen.flow_from_directory(\n",
        "    val_dir,\n",
        "    target_size=img_size,\n",
        "    batch_size=batch_size,\n",
        "    class_mode='categorical'\n",
        ")"
      ]
    },
    {
      "cell_type": "code",
      "execution_count": null,
      "metadata": {
        "colab": {
          "base_uri": "https://localhost:8080/",
          "height": 143
        },
        "id": "8wx7zDImt3Cj",
        "outputId": "9bf81412-9ff5-4644-f84e-fc2e9671edd1"
      },
      "outputs": [
        {
          "ename": "SyntaxError",
          "evalue": "ignored",
          "output_type": "error",
          "traceback": [
            "\u001b[0;36m  File \u001b[0;32m\"<ipython-input-64-d4efde52f646>\"\u001b[0;36m, line \u001b[0;32m1\u001b[0m\n\u001b[0;31m    base_model=VGG19(weights='imagenet',include_top=False,input_shape(224,224,3))\u001b[0m\n\u001b[0m                                                                                ^\u001b[0m\n\u001b[0;31mSyntaxError\u001b[0m\u001b[0;31m:\u001b[0m positional argument follows keyword argument\n"
          ]
        }
      ],
      "source": [
        "base_model=VGG19(weights='imagenet',include_top=False,input_shape(224,224,3))"
      ]
    },
    {
      "cell_type": "code",
      "execution_count": null,
      "metadata": {
        "id": "ojSB31ATvlAk"
      },
      "outputs": [],
      "source": [
        "x=base_model.output\n",
        "x=GlobalAveragePooling2D()(x)\n",
        "x=Dense(128,activation='relu')(x)\n",
        "predictions=Dense(3,activation='sigmoid')(x)"
      ]
    },
    {
      "cell_type": "code",
      "execution_count": null,
      "metadata": {
        "id": "8WpIvmYIv75b"
      },
      "outputs": [],
      "source": [
        "model=Model(inputs=base_model.input,outputs=predictions)"
      ]
    },
    {
      "cell_type": "code",
      "execution_count": null,
      "metadata": {
        "id": "xpIi66miwJm-"
      },
      "outputs": [],
      "source": [
        "for layer in base_model.layers:\n",
        "  layer.trainable=False"
      ]
    },
    {
      "cell_type": "code",
      "execution_count": null,
      "metadata": {
        "id": "c0V5IbAfwYRt"
      },
      "outputs": [],
      "source": [
        "model.compile(optimizer=Adam(),loss='categorical_crossentropy',metrics=['accuracy'])"
      ]
    },
    {
      "cell_type": "code",
      "execution_count": null,
      "metadata": {
        "id": "prtvHm3bwmo5"
      },
      "outputs": [],
      "source": [
        "history=model.fit(\n",
        "    train_generator,\n",
        "    steps_per_epoch=train_generator.samples//batch_size,\n",
        "    epochs=7,\n",
        "    validation_data=validation_generator,\n",
        "    validation_steps=validation_generator.samples//batch_size,\n",
        ")"
      ]
    },
    {
      "cell_type": "code",
      "execution_count": null,
      "metadata": {
        "id": "LxNFJmVI7U4p"
      },
      "outputs": [],
      "source": [
        "model.compile(optimizer='adam', loss='categorical_crossentropy', metrics=['accuracy'])\n"
      ]
    },
    {
      "cell_type": "code",
      "execution_count": null,
      "metadata": {
        "id": "H7dHk1rDy16Z"
      },
      "outputs": [],
      "source": [
        "t_a=history.history['accuracy']\n",
        "v_a=history.history['val_accuracy']\n",
        "t_l=history.history['loss']\n",
        "v_l=history.history['val_loss']"
      ]
    },
    {
      "cell_type": "code",
      "execution_count": null,
      "metadata": {
        "id": "W0BEVvqny5jc"
      },
      "outputs": [],
      "source": [
        "img_arr=cv2.imread('/content/drive/MyDrive/images/Train/Akshay/100.jpg')\n",
        "test_set=[]\n",
        "img_arr_resize=cv2.resize(img_arr,(224,224))\n",
        "np.max(img_arr_resize)\n",
        "img_arr_resize=img_arr_resize/255\n",
        "img_arr_resize=img_arr_resize.reshape(224,224,3,1)\n",
        "test_set.append(img_arr_resize)\n",
        "test=np.array(test_set)\n",
        "test.shape\n",
        "result=model.predict(test)\n",
        "np.argmax(result)"
      ]
    },
    {
      "cell_type": "code",
      "execution_count": null,
      "metadata": {
        "id": "EkMNZOabzL7a"
      },
      "outputs": [],
      "source": []
    },
    {
      "cell_type": "code",
      "execution_count": null,
      "metadata": {
        "id": "nbrEF-l-zMRK"
      },
      "outputs": [],
      "source": []
    },
    {
      "cell_type": "markdown",
      "metadata": {
        "id": "fGL_durRzNGE"
      },
      "source": [
        "##ResNet50\n"
      ]
    },
    {
      "cell_type": "code",
      "execution_count": null,
      "metadata": {
        "id": "3lrssWX7zMYB"
      },
      "outputs": [],
      "source": [
        "import tensorflow as tf\n",
        "import tensorflow.keras.applications as ResNet50\n",
        "import tensorflow.keras.models as Model\n",
        "from tensorflow.keras.optimizers import Adam\n",
        "from tensorflow.keras.layers import Dense,GlobalAveragePooling2D"
      ]
    },
    {
      "cell_type": "code",
      "execution_count": null,
      "metadata": {
        "id": "fPuPPKhX0TZk"
      },
      "outputs": [],
      "source": [
        "train_dir=('/content/drive/MyDrive/images/Train')\n",
        "val_dir=('/content/drive/MyDrive/images/Test')"
      ]
    },
    {
      "cell_type": "code",
      "execution_count": null,
      "metadata": {
        "id": "Y8CtFTJA0kZP"
      },
      "outputs": [],
      "source": [
        "import tensorflow.keras.applications as applications\n",
        "c=applications.ResNet50(weights='imagenet', include_top=False, input_shape=(224, 224, 3))\n"
      ]
    },
    {
      "cell_type": "code",
      "execution_count": null,
      "metadata": {
        "id": "t6YdUEp708za"
      },
      "outputs": [],
      "source": [
        "c.summary"
      ]
    },
    {
      "cell_type": "code",
      "execution_count": null,
      "metadata": {
        "id": "2504N0eW1K-a"
      },
      "outputs": [],
      "source": [
        "x=c.output\n",
        "x=GlobalAveragePooling2D()(x)\n",
        "x=Dense(128,activation='relu')(x)\n",
        "predictions=Dense(5,activation='sigmoid')(x)"
      ]
    },
    {
      "cell_type": "code",
      "execution_count": null,
      "metadata": {
        "id": "yDplMAjO12nH"
      },
      "outputs": [],
      "source": [
        "from tensorflow.keras.models import Model\n",
        "mod=Model(inputs=c.input,outputs=predictions)"
      ]
    },
    {
      "cell_type": "code",
      "execution_count": null,
      "metadata": {
        "id": "VPFOsP_m2Sc1"
      },
      "outputs": [],
      "source": [
        "for layer in c.layers:\n",
        "  layer.trainable=False"
      ]
    },
    {
      "cell_type": "code",
      "execution_count": null,
      "metadata": {
        "id": "RznrcDcU2fTe"
      },
      "outputs": [],
      "source": [
        "mod.compile(optimizer=Adam(),loss='categorical_crossentropy',metrics=['Accuracy'])"
      ]
    },
    {
      "cell_type": "code",
      "execution_count": null,
      "metadata": {
        "id": "LG0a6n1a9VsD"
      },
      "outputs": [],
      "source": [
        "mod.compile(optimizer='adam', loss='categorical_crossentropy', metrics=['accuracy'])\n"
      ]
    },
    {
      "cell_type": "code",
      "execution_count": null,
      "metadata": {
        "id": "BDrzYpxz9cf3"
      },
      "outputs": [],
      "source": [
        "mod = Sequential()\n",
        "mod.compile(optimizer='adam', loss='categorical_crossentropy', metrics=['accuracy'])\n"
      ]
    },
    {
      "cell_type": "code",
      "execution_count": null,
      "metadata": {
        "id": "tmr8GoQD9ktJ"
      },
      "outputs": [],
      "source": [
        "his1 = mod.fit(\n",
        "    train_generator,\n",
        "    steps_per_epoch=train_generator.samples // batch_size,\n",
        "    epochs=10,\n",
        "    validation_data=validation_generator,\n",
        "    validation_steps=validation_generator.samples // batch_size\n",
        ")\n"
      ]
    },
    {
      "cell_type": "code",
      "execution_count": null,
      "metadata": {
        "id": "YPUJwNdZ35zP"
      },
      "outputs": [],
      "source": [
        "img_arr=cv2.imread('/content/drive/MyDrive/images/Train/Akshay/104.jpg')\n",
        "test_set=[]\n",
        "img_arr_resize=cv2.resize(img_arr,(224,224))\n",
        "np.max(img_arr_resize)\n",
        "img_arr_resize=img_arr_resize/255\n",
        "img_arr_resize=img_arr_resize.reshape(224,224,3,1)\n",
        "test_set.append(img_arr_resize)\n",
        "test=np.array(test_set)\n",
        "test.shape\n",
        "result=mod.predict(test)\n",
        "np.argmax(result)"
      ]
    },
    {
      "cell_type": "code",
      "execution_count": null,
      "metadata": {
        "id": "gQFgYL4-4Bly"
      },
      "outputs": [],
      "source": [
        "import matplotlib.pyplot as plt\n",
        "t_a=his1.history['Accuracy']\n",
        "v_a=his1.history['val_Accuracy']\n",
        "t_l=his1.history['loss']\n",
        "v_l=his1.history['val_loss']"
      ]
    },
    {
      "cell_type": "code",
      "execution_count": null,
      "metadata": {
        "id": "tkRFPidr4Cjf"
      },
      "outputs": [],
      "source": [
        "plt.plot(epoch,t_a,label=['accuracy'])\n",
        "plt.plot(epoch,v_a,label=['Validation Accuracy'])\n",
        "plt.title('Accuracy LC')\n",
        "plt.xlabel('Training Accuracy')\n",
        "plt.ylabel('Validation Accuracy')\n",
        "plt.legend()"
      ]
    }
  ],
  "metadata": {
    "accelerator": "GPU",
    "colab": {
      "gpuType": "T4",
      "provenance": []
    },
    "kernelspec": {
      "display_name": "Python 3",
      "name": "python3"
    },
    "language_info": {
      "name": "python"
    }
  },
  "nbformat": 4,
  "nbformat_minor": 0
}
